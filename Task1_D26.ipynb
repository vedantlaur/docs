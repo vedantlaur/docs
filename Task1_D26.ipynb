{
  "nbformat": 4,
  "nbformat_minor": 0,
  "metadata": {
    "colab": {
      "name": "Task1 D26.ipynb",
      "provenance": [],
      "toc_visible": true,
      "authorship_tag": "ABX9TyNYJx9SdgeodLxI9DSTan2g",
      "include_colab_link": true
    },
    "kernelspec": {
      "name": "python3",
      "display_name": "Python 3"
    },
    "language_info": {
      "name": "python"
    }
  },
  "cells": [
    {
      "cell_type": "markdown",
      "metadata": {
        "id": "view-in-github",
        "colab_type": "text"
      },
      "source": [
        "<a href=\"https://colab.research.google.com/github/vedantlaur/docs/blob/main/Task1_D26.ipynb\" target=\"_parent\"><img src=\"https://colab.research.google.com/assets/colab-badge.svg\" alt=\"Open In Colab\"/></a>"
      ]
    },
    {
      "cell_type": "code",
      "source": [
        "import re\n",
        " \n",
        "# Make a regular expression\n",
        "# for validating an Email\n",
        "regex = r'\\b[a-z0-9._%+-]+@[a-z.-]+\\.[a-z]{2,3}\\b'\n",
        " \n",
        "# Define a function for validating an Email\n",
        " \n",
        "email = input(\"Enter your email:\")\n",
        "if(re.fullmatch(regex, email)):\n",
        "  print(\"Valid Email\")\n",
        " \n",
        "else:\n",
        "  print(\"Invalid Email\")\n"
      ],
      "metadata": {
        "id": "mp9lXP1XTwHF"
      },
      "execution_count": null,
      "outputs": []
    },
    {
      "cell_type": "code",
      "source": [
        "# Password validation in Python\n",
        "# using naive method\n",
        "  \n",
        "# Function to validate the password\n",
        "SpecialSym =['$', '@', '#', '%']\n",
        "val = True\n",
        "passwd = input(\"enter the password:\")\n",
        "if len(passwd) < 5:\n",
        "  print('length should be at least 6')\n",
        "  val = False\n",
        "if len(passwd) > 16:\n",
        "  print('length should not be greater than 16')\n",
        "  val = False\n",
        "\n",
        "if not any(char.isdigit() for char in passwd):\n",
        "  print('Password should have at least one numeral')\n",
        "  val = False\n",
        "          \n",
        "if not any(char.isupper() for char in passwd):\n",
        "  print('Password should have at least one uppercase letter')\n",
        "  val = False\n",
        "          \n",
        "if not any(char.islower() for char in passwd):\n",
        "  print('Password should have at least one lowercase letter')\n",
        "  val = False\n",
        "          \n",
        "if not any(char in SpecialSym for char in passwd):\n",
        "  print('Password should have at least one special character $@#')\n",
        "  val = False\n",
        "\n",
        "if val:\n",
        "  print(val)\n"
      ],
      "metadata": {
        "id": "qC7CZToZb-I6"
      },
      "execution_count": null,
      "outputs": []
    }
  ]
}